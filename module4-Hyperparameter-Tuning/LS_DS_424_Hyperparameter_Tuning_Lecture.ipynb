{
  "nbformat": 4,
  "nbformat_minor": 0,
  "metadata": {
    "kernelspec": {
      "name": "python3",
      "display_name": "Python 3"
    },
    "colab": {
      "name": "LS_DS_424_Hyperparameter_Tuning_Lecture.ipynb",
      "provenance": []
    },
    "accelerator": "TPU"
  },
  "cells": [
    {
      "cell_type": "markdown",
      "metadata": {
        "colab_type": "text",
        "id": "41TS0Sa0rDNx"
      },
      "source": [
        "Lambda School Data Science\n",
        "\n",
        "*Unit 4, Sprint 2, Module 4*\n",
        "\n",
        "---"
      ]
    },
    {
      "cell_type": "markdown",
      "metadata": {
        "colab_type": "text",
        "id": "hk64Jj6gohEE"
      },
      "source": [
        "# Neural Networks & GPUs (Prepare)\n",
        "*aka Hyperparameter Tuning*\n",
        "\n",
        "*aka Big Servers for Big Problems*"
      ]
    },
    {
      "cell_type": "markdown",
      "metadata": {
        "colab_type": "text",
        "id": "O9R5L0tUohEG"
      },
      "source": [
        "## Learning Objectives\n",
        "* <a href=\"#p1\">Part 1</a>: Describe the major hyperparemeters to tune\n",
        "* <a href=\"#p2\">Part 2</a>: Implement an experiment tracking framework\n",
        "* <a href=\"#p3\">Part 3</a>: Search the hyperparameter space using RandomSearch (Optional)"
      ]
    },
    {
      "cell_type": "code",
      "metadata": {
        "id": "ppVrLoIxohEI",
        "colab_type": "code",
        "colab": {}
      },
      "source": [
        "wandb_group = \"ds8\"\n",
        "wandb_project = \"ds11_inclass\""
      ],
      "execution_count": 0,
      "outputs": []
    },
    {
      "cell_type": "markdown",
      "metadata": {
        "id": "z8OlJUj-ohEO",
        "colab_type": "text"
      },
      "source": [
        "# Hyperparameter Options (Learn)\n",
        "<a id=\"p1\"></a>"
      ]
    },
    {
      "cell_type": "markdown",
      "metadata": {
        "id": "4NEV9InuohEP",
        "colab_type": "text"
      },
      "source": [
        "## Overview\n",
        "\n",
        "Hyperparameter tuning is much more important with neural networks than it has been with any other models that we have considered up to this point. Other supervised learning models might have a couple of parameters, but neural networks can have dozens. These can substantially affect the accuracy of our models and although it can be a time consuming process is a necessary step when working with neural networks.\n",
        "​\n",
        "Hyperparameter tuning comes with a challenge. How can we compare models specified with different hyperparameters if our model's final error metric can vary somewhat erratically? How do we avoid just getting unlucky and selecting the wrong hyperparameter? This is a problem that to a certain degree we just have to live with as we test and test again. However, we can minimize it somewhat by pairing our experiments with Cross Validation to reduce the variance of our final accuracy values."
      ]
    },
    {
      "cell_type": "markdown",
      "metadata": {
        "colab_type": "text",
        "id": "0s0o2pqBs88q"
      },
      "source": [
        "### Load Boston Housing Data"
      ]
    },
    {
      "cell_type": "code",
      "metadata": {
        "id": "Dg_XPVybo21J",
        "colab_type": "code",
        "colab": {
          "base_uri": "https://localhost:8080/",
          "height": 34
        },
        "outputId": "e69e2131-d147-4666-d31f-80af8c9d6b4e"
      },
      "source": [
        "%tensorflow_version 2.x"
      ],
      "execution_count": 2,
      "outputs": [
        {
          "output_type": "stream",
          "text": [
            "TensorFlow 2.x selected.\n"
          ],
          "name": "stdout"
        }
      ]
    },
    {
      "cell_type": "code",
      "metadata": {
        "id": "e8WTEKmnohER",
        "colab_type": "code",
        "colab": {}
      },
      "source": [
        "from tensorflow.keras.datasets import boston_housing\n",
        "\n",
        "(x_train, y_train), (x_test, y_test) = boston_housing.load_data()"
      ],
      "execution_count": 0,
      "outputs": []
    },
    {
      "cell_type": "markdown",
      "metadata": {
        "colab_type": "text",
        "id": "Pm7zow5IvaTt"
      },
      "source": [
        "### Normalizing Input Data\n",
        "\n",
        "It's not 100% necessary to normalize/scale your input data before feeding it to a neural network, the network can learn the appropriate weights to deal with data of as long as it is numerically represented,  but it is recommended as it can help **make training faster** and **reduces the chances that gradient descent might get stuck in a local optimum**.\n",
        "\n",
        "<https://stackoverflow.com/questions/4674623/why-do-we-have-to-normalize-the-input-for-an-artificial-neural-network>"
      ]
    },
    {
      "cell_type": "code",
      "metadata": {
        "id": "uHPqZaNkohEV",
        "colab_type": "code",
        "colab": {
          "base_uri": "https://localhost:8080/",
          "height": 550
        },
        "outputId": "15b72033-e595-47a1-d23d-f3b30e664c68"
      },
      "source": [
        "from sklearn.preprocessing import StandardScaler\n",
        "\n",
        "scaler = StandardScaler()\n",
        "\n",
        "x_train = scaler.fit_transform(x_train)\n",
        "x_test = scaler.transform(x_test)\n",
        "print(x_train[:10])"
      ],
      "execution_count": 4,
      "outputs": [
        {
          "output_type": "stream",
          "text": [
            "[[-0.27224633 -0.48361547 -0.43576161 -0.25683275 -0.1652266  -0.1764426\n",
            "   0.81306188  0.1166983  -0.62624905 -0.59517003  1.14850044  0.44807713\n",
            "   0.8252202 ]\n",
            " [-0.40342651  2.99178419 -1.33391162 -0.25683275 -1.21518188  1.89434613\n",
            "  -1.91036058  1.24758524 -0.85646254 -0.34843254 -1.71818909  0.43190599\n",
            "  -1.32920239]\n",
            " [ 0.1249402  -0.48361547  1.0283258  -0.25683275  0.62864202 -1.82968811\n",
            "   1.11048828 -1.18743907  1.67588577  1.5652875   0.78447637  0.22061726\n",
            "  -1.30850006]\n",
            " [-0.40149354 -0.48361547 -0.86940196 -0.25683275 -0.3615597  -0.3245576\n",
            "  -1.23667187  1.10717989 -0.51114231 -1.094663    0.78447637  0.44807713\n",
            "  -0.65292624]\n",
            " [-0.0056343  -0.48361547  1.0283258  -0.25683275  1.32861221  0.15364225\n",
            "   0.69480801 -0.57857203  1.67588577  1.5652875   0.78447637  0.3898823\n",
            "   0.26349695]\n",
            " [-0.37502238 -0.48361547 -0.54747912 -0.25683275 -0.54935658 -0.78865126\n",
            "   0.18954148  0.48371503 -0.51114231 -0.71552978  0.51145832  0.38669063\n",
            "  -0.13812828]\n",
            " [ 0.58963463 -0.48361547  1.0283258  -0.25683275  1.21764133 -1.03127774\n",
            "   1.11048828 -1.06518235  1.67588577  1.5652875   0.78447637  0.44807713\n",
            "   1.49873604]\n",
            " [ 0.0381708  -0.48361547  1.24588095 -0.25683275  2.67733525 -1.12719983\n",
            "   1.11048828 -1.14833073 -0.51114231 -0.01744323 -1.71818909  0.44807713\n",
            "   1.88793986]\n",
            " [-0.17228416 -0.48361547  1.24588095 -0.25683275  2.67733525 -0.90150078\n",
            "   1.11048828 -1.09664657 -0.51114231 -0.01744323 -1.71818909 -1.97365769\n",
            "   0.53952803]\n",
            " [-0.22932104 -0.48361547  1.58544339 -0.25683275  0.56888847 -1.76056777\n",
            "   1.11048828 -1.13471925 -0.62624905  0.18716835  1.23950646  0.44807713\n",
            "   2.99068404]]\n"
          ],
          "name": "stdout"
        }
      ]
    },
    {
      "cell_type": "markdown",
      "metadata": {
        "colab_type": "text",
        "id": "l6hgCWbir90R"
      },
      "source": [
        "### Model Validation using an automatic verification Dataset\n",
        "\n",
        "Instead of doing seperate train test split class, Keras has a really nice feature that you can set the validation.data argument when fitting your model and Keras will take that portion of your test data and use it as a validation dataset. "
      ]
    },
    {
      "cell_type": "code",
      "metadata": {
        "colab_type": "code",
        "id": "GMXVfmzXp1Oo",
        "outputId": "0d8659fb-93d2-48be-ddb8-6ece98783018",
        "colab": {
          "base_uri": "https://localhost:8080/",
          "height": 1000
        }
      },
      "source": [
        "from tensorflow import keras\n",
        "from tensorflow.keras.models import Sequential\n",
        "from tensorflow.keras.layers import Dense\n",
        "\n",
        "# Important Hyperparameters\n",
        "inputs = x_train.shape[1]\n",
        "epochs = 75\n",
        "batch_size = 10\n",
        "\n",
        "\n",
        "# Create Model\n",
        "model = Sequential()\n",
        "model.add(Dense(64, activation='relu', input_shape=(inputs,)))\n",
        "model.add(Dense(64, activation='relu'))\n",
        "model.add(Dense(1))\n",
        "\n",
        "# Compile Model\n",
        "model.compile(optimizer='adam', loss='mse', metrics=['mse', 'mae'])\n",
        "\n",
        "# Fit Model\n",
        "model.fit(x_train, y_train, \n",
        "          validation_data=(x_test,y_test), \n",
        "          epochs=epochs, \n",
        "          batch_size=batch_size\n",
        "         )"
      ],
      "execution_count": 5,
      "outputs": [
        {
          "output_type": "stream",
          "text": [
            "Train on 404 samples, validate on 102 samples\n",
            "Epoch 1/75\n",
            "404/404 [==============================] - 1s 2ms/sample - loss: 523.7947 - mse: 523.7947 - mae: 20.9739 - val_loss: 453.0433 - val_mse: 453.0433 - val_mae: 19.2959\n",
            "Epoch 2/75\n",
            "404/404 [==============================] - 0s 224us/sample - loss: 283.8460 - mse: 283.8460 - mae: 14.4116 - val_loss: 133.3149 - val_mse: 133.3149 - val_mae: 9.6090\n",
            "Epoch 3/75\n",
            "404/404 [==============================] - 0s 229us/sample - loss: 70.6140 - mse: 70.6140 - mae: 6.0465 - val_loss: 48.0463 - val_mse: 48.0463 - val_mae: 5.3868\n",
            "Epoch 4/75\n",
            "404/404 [==============================] - 0s 215us/sample - loss: 36.0909 - mse: 36.0909 - mae: 4.3024 - val_loss: 31.6894 - val_mse: 31.6894 - val_mae: 4.4019\n",
            "Epoch 5/75\n",
            "404/404 [==============================] - 0s 232us/sample - loss: 26.8507 - mse: 26.8507 - mae: 3.6443 - val_loss: 26.0962 - val_mse: 26.0962 - val_mae: 3.8965\n",
            "Epoch 6/75\n",
            "404/404 [==============================] - 0s 220us/sample - loss: 22.1998 - mse: 22.1998 - mae: 3.2522 - val_loss: 24.5490 - val_mse: 24.5490 - val_mae: 3.7033\n",
            "Epoch 7/75\n",
            "404/404 [==============================] - 0s 252us/sample - loss: 19.7495 - mse: 19.7495 - mae: 3.0257 - val_loss: 23.7217 - val_mse: 23.7217 - val_mae: 3.6048\n",
            "Epoch 8/75\n",
            "404/404 [==============================] - 0s 250us/sample - loss: 17.9236 - mse: 17.9236 - mae: 2.9118 - val_loss: 24.7996 - val_mse: 24.7996 - val_mae: 3.6780\n",
            "Epoch 9/75\n",
            "404/404 [==============================] - 0s 232us/sample - loss: 16.2285 - mse: 16.2285 - mae: 2.8088 - val_loss: 24.1543 - val_mse: 24.1543 - val_mae: 3.5563\n",
            "Epoch 10/75\n",
            "404/404 [==============================] - 0s 233us/sample - loss: 15.1340 - mse: 15.1340 - mae: 2.6974 - val_loss: 24.2698 - val_mse: 24.2698 - val_mae: 3.5607\n",
            "Epoch 11/75\n",
            "404/404 [==============================] - 0s 236us/sample - loss: 14.0625 - mse: 14.0625 - mae: 2.6739 - val_loss: 23.5491 - val_mse: 23.5491 - val_mae: 3.3996\n",
            "Epoch 12/75\n",
            "404/404 [==============================] - 0s 229us/sample - loss: 13.2214 - mse: 13.2214 - mae: 2.5488 - val_loss: 23.0962 - val_mse: 23.0962 - val_mae: 3.3343\n",
            "Epoch 13/75\n",
            "404/404 [==============================] - 0s 217us/sample - loss: 12.5086 - mse: 12.5086 - mae: 2.4761 - val_loss: 24.2310 - val_mse: 24.2310 - val_mae: 3.3625\n",
            "Epoch 14/75\n",
            "404/404 [==============================] - 0s 238us/sample - loss: 12.3357 - mse: 12.3357 - mae: 2.5029 - val_loss: 24.4641 - val_mse: 24.4641 - val_mae: 3.3488\n",
            "Epoch 15/75\n",
            "404/404 [==============================] - 0s 230us/sample - loss: 11.5559 - mse: 11.5559 - mae: 2.4517 - val_loss: 23.4539 - val_mse: 23.4539 - val_mae: 3.2541\n",
            "Epoch 16/75\n",
            "404/404 [==============================] - 0s 236us/sample - loss: 11.1993 - mse: 11.1993 - mae: 2.4053 - val_loss: 25.5628 - val_mse: 25.5628 - val_mae: 3.3844\n",
            "Epoch 17/75\n",
            "404/404 [==============================] - 0s 222us/sample - loss: 10.9100 - mse: 10.9100 - mae: 2.3789 - val_loss: 24.8858 - val_mse: 24.8858 - val_mae: 3.3082\n",
            "Epoch 18/75\n",
            "404/404 [==============================] - 0s 231us/sample - loss: 10.6306 - mse: 10.6306 - mae: 2.3329 - val_loss: 24.6756 - val_mse: 24.6756 - val_mae: 3.2841\n",
            "Epoch 19/75\n",
            "404/404 [==============================] - 0s 233us/sample - loss: 10.2433 - mse: 10.2433 - mae: 2.2940 - val_loss: 25.6411 - val_mse: 25.6411 - val_mae: 3.3205\n",
            "Epoch 20/75\n",
            "404/404 [==============================] - 0s 234us/sample - loss: 9.8915 - mse: 9.8915 - mae: 2.2565 - val_loss: 24.2209 - val_mse: 24.2209 - val_mae: 3.2052\n",
            "Epoch 21/75\n",
            "404/404 [==============================] - 0s 265us/sample - loss: 9.8849 - mse: 9.8849 - mae: 2.2476 - val_loss: 22.2845 - val_mse: 22.2845 - val_mae: 3.1131\n",
            "Epoch 22/75\n",
            "404/404 [==============================] - 0s 219us/sample - loss: 9.8367 - mse: 9.8367 - mae: 2.2622 - val_loss: 23.8931 - val_mse: 23.8931 - val_mae: 3.2337\n",
            "Epoch 23/75\n",
            "404/404 [==============================] - 0s 249us/sample - loss: 9.3453 - mse: 9.3453 - mae: 2.2121 - val_loss: 24.4319 - val_mse: 24.4319 - val_mae: 3.1987\n",
            "Epoch 24/75\n",
            "404/404 [==============================] - 0s 226us/sample - loss: 9.2604 - mse: 9.2604 - mae: 2.1858 - val_loss: 23.6655 - val_mse: 23.6655 - val_mae: 3.1164\n",
            "Epoch 25/75\n",
            "404/404 [==============================] - 0s 244us/sample - loss: 9.1685 - mse: 9.1685 - mae: 2.1794 - val_loss: 24.7311 - val_mse: 24.7311 - val_mae: 3.2445\n",
            "Epoch 26/75\n",
            "404/404 [==============================] - 0s 223us/sample - loss: 9.1827 - mse: 9.1827 - mae: 2.1924 - val_loss: 23.7281 - val_mse: 23.7281 - val_mae: 3.1009\n",
            "Epoch 27/75\n",
            "404/404 [==============================] - 0s 224us/sample - loss: 8.9156 - mse: 8.9156 - mae: 2.1552 - val_loss: 24.4793 - val_mse: 24.4793 - val_mae: 3.1583\n",
            "Epoch 28/75\n",
            "404/404 [==============================] - 0s 222us/sample - loss: 8.8047 - mse: 8.8047 - mae: 2.1409 - val_loss: 23.2602 - val_mse: 23.2602 - val_mae: 3.0952\n",
            "Epoch 29/75\n",
            "404/404 [==============================] - 0s 222us/sample - loss: 8.5409 - mse: 8.5409 - mae: 2.1116 - val_loss: 25.7283 - val_mse: 25.7283 - val_mae: 3.3719\n",
            "Epoch 30/75\n",
            "404/404 [==============================] - 0s 232us/sample - loss: 8.5708 - mse: 8.5708 - mae: 2.1014 - val_loss: 21.6758 - val_mse: 21.6758 - val_mae: 3.0490\n",
            "Epoch 31/75\n",
            "404/404 [==============================] - 0s 226us/sample - loss: 8.3922 - mse: 8.3922 - mae: 2.0652 - val_loss: 21.6358 - val_mse: 21.6358 - val_mae: 2.9508\n",
            "Epoch 32/75\n",
            "404/404 [==============================] - 0s 219us/sample - loss: 8.8123 - mse: 8.8123 - mae: 2.1527 - val_loss: 22.6273 - val_mse: 22.6273 - val_mae: 3.0413\n",
            "Epoch 33/75\n",
            "404/404 [==============================] - 0s 232us/sample - loss: 8.1383 - mse: 8.1383 - mae: 2.0619 - val_loss: 22.0496 - val_mse: 22.0496 - val_mae: 2.9763\n",
            "Epoch 34/75\n",
            "404/404 [==============================] - 0s 218us/sample - loss: 8.3230 - mse: 8.3230 - mae: 2.0543 - val_loss: 21.7390 - val_mse: 21.7390 - val_mae: 2.9761\n",
            "Epoch 35/75\n",
            "404/404 [==============================] - 0s 230us/sample - loss: 7.9953 - mse: 7.9953 - mae: 2.0032 - val_loss: 24.4124 - val_mse: 24.4124 - val_mae: 3.1762\n",
            "Epoch 36/75\n",
            "404/404 [==============================] - 0s 224us/sample - loss: 8.1003 - mse: 8.1003 - mae: 2.0435 - val_loss: 21.9346 - val_mse: 21.9346 - val_mae: 2.9868\n",
            "Epoch 37/75\n",
            "404/404 [==============================] - 0s 225us/sample - loss: 7.7157 - mse: 7.7157 - mae: 1.9987 - val_loss: 20.2061 - val_mse: 20.2061 - val_mae: 2.9326\n",
            "Epoch 38/75\n",
            "404/404 [==============================] - 0s 227us/sample - loss: 7.8016 - mse: 7.8016 - mae: 1.9791 - val_loss: 23.2615 - val_mse: 23.2615 - val_mae: 3.0305\n",
            "Epoch 39/75\n",
            "404/404 [==============================] - 0s 231us/sample - loss: 7.9317 - mse: 7.9317 - mae: 2.0317 - val_loss: 22.0071 - val_mse: 22.0071 - val_mae: 3.0535\n",
            "Epoch 40/75\n",
            "404/404 [==============================] - 0s 230us/sample - loss: 7.6622 - mse: 7.6622 - mae: 1.9939 - val_loss: 21.9607 - val_mse: 21.9607 - val_mae: 2.9355\n",
            "Epoch 41/75\n",
            "404/404 [==============================] - 0s 217us/sample - loss: 7.4149 - mse: 7.4149 - mae: 1.9662 - val_loss: 19.8726 - val_mse: 19.8726 - val_mae: 2.8331\n",
            "Epoch 42/75\n",
            "404/404 [==============================] - 0s 233us/sample - loss: 7.5440 - mse: 7.5440 - mae: 1.9569 - val_loss: 21.5836 - val_mse: 21.5836 - val_mae: 2.9409\n",
            "Epoch 43/75\n",
            "404/404 [==============================] - 0s 223us/sample - loss: 7.2283 - mse: 7.2283 - mae: 1.9504 - val_loss: 19.9669 - val_mse: 19.9669 - val_mae: 2.8523\n",
            "Epoch 44/75\n",
            "404/404 [==============================] - 0s 240us/sample - loss: 7.2634 - mse: 7.2634 - mae: 1.9149 - val_loss: 19.8842 - val_mse: 19.8842 - val_mae: 2.8327\n",
            "Epoch 45/75\n",
            "404/404 [==============================] - 0s 231us/sample - loss: 7.2585 - mse: 7.2585 - mae: 1.9311 - val_loss: 20.3830 - val_mse: 20.3830 - val_mae: 2.9563\n",
            "Epoch 46/75\n",
            "404/404 [==============================] - 0s 226us/sample - loss: 7.1599 - mse: 7.1599 - mae: 1.8814 - val_loss: 21.8521 - val_mse: 21.8521 - val_mae: 2.9557\n",
            "Epoch 47/75\n",
            "404/404 [==============================] - 0s 221us/sample - loss: 7.2694 - mse: 7.2694 - mae: 1.9140 - val_loss: 22.7133 - val_mse: 22.7133 - val_mae: 3.0323\n",
            "Epoch 48/75\n",
            "404/404 [==============================] - 0s 238us/sample - loss: 7.6086 - mse: 7.6086 - mae: 2.0081 - val_loss: 20.8841 - val_mse: 20.8841 - val_mae: 2.9013\n",
            "Epoch 49/75\n",
            "404/404 [==============================] - 0s 225us/sample - loss: 6.8501 - mse: 6.8501 - mae: 1.8770 - val_loss: 19.0216 - val_mse: 19.0216 - val_mae: 2.7812\n",
            "Epoch 50/75\n",
            "404/404 [==============================] - 0s 225us/sample - loss: 6.8479 - mse: 6.8479 - mae: 1.8607 - val_loss: 18.4775 - val_mse: 18.4775 - val_mae: 2.7851\n",
            "Epoch 51/75\n",
            "404/404 [==============================] - 0s 211us/sample - loss: 6.8434 - mse: 6.8434 - mae: 1.8792 - val_loss: 19.1097 - val_mse: 19.1097 - val_mae: 2.9276\n",
            "Epoch 52/75\n",
            "404/404 [==============================] - 0s 230us/sample - loss: 6.8672 - mse: 6.8672 - mae: 1.8629 - val_loss: 18.4604 - val_mse: 18.4604 - val_mae: 2.7417\n",
            "Epoch 53/75\n",
            "404/404 [==============================] - 0s 231us/sample - loss: 6.5933 - mse: 6.5933 - mae: 1.8555 - val_loss: 18.8881 - val_mse: 18.8881 - val_mae: 2.7436\n",
            "Epoch 54/75\n",
            "404/404 [==============================] - 0s 219us/sample - loss: 6.5237 - mse: 6.5236 - mae: 1.8189 - val_loss: 18.9266 - val_mse: 18.9266 - val_mae: 2.9154\n",
            "Epoch 55/75\n",
            "404/404 [==============================] - 0s 241us/sample - loss: 6.3916 - mse: 6.3916 - mae: 1.8257 - val_loss: 19.0843 - val_mse: 19.0843 - val_mae: 2.8627\n",
            "Epoch 56/75\n",
            "404/404 [==============================] - 0s 226us/sample - loss: 6.4094 - mse: 6.4094 - mae: 1.8352 - val_loss: 20.7402 - val_mse: 20.7402 - val_mae: 3.0417\n",
            "Epoch 57/75\n",
            "404/404 [==============================] - 0s 264us/sample - loss: 6.2410 - mse: 6.2410 - mae: 1.8148 - val_loss: 18.6428 - val_mse: 18.6428 - val_mae: 2.8393\n",
            "Epoch 58/75\n",
            "404/404 [==============================] - 0s 223us/sample - loss: 6.2322 - mse: 6.2322 - mae: 1.7971 - val_loss: 18.0222 - val_mse: 18.0222 - val_mae: 2.6987\n",
            "Epoch 59/75\n",
            "404/404 [==============================] - 0s 244us/sample - loss: 6.1250 - mse: 6.1250 - mae: 1.7756 - val_loss: 17.1489 - val_mse: 17.1489 - val_mae: 2.6567\n",
            "Epoch 60/75\n",
            "404/404 [==============================] - 0s 218us/sample - loss: 5.9636 - mse: 5.9636 - mae: 1.7258 - val_loss: 19.0161 - val_mse: 19.0161 - val_mae: 2.9236\n",
            "Epoch 61/75\n",
            "404/404 [==============================] - 0s 230us/sample - loss: 6.1823 - mse: 6.1823 - mae: 1.8069 - val_loss: 18.4681 - val_mse: 18.4681 - val_mae: 2.7788\n",
            "Epoch 62/75\n",
            "404/404 [==============================] - 0s 233us/sample - loss: 5.9489 - mse: 5.9489 - mae: 1.7399 - val_loss: 16.7100 - val_mse: 16.7100 - val_mae: 2.7085\n",
            "Epoch 63/75\n",
            "404/404 [==============================] - 0s 215us/sample - loss: 6.2667 - mse: 6.2667 - mae: 1.7963 - val_loss: 19.3282 - val_mse: 19.3282 - val_mae: 2.7832\n",
            "Epoch 64/75\n",
            "404/404 [==============================] - 0s 229us/sample - loss: 5.8584 - mse: 5.8584 - mae: 1.7376 - val_loss: 17.4675 - val_mse: 17.4675 - val_mae: 2.7300\n",
            "Epoch 65/75\n",
            "404/404 [==============================] - 0s 241us/sample - loss: 5.8573 - mse: 5.8573 - mae: 1.7618 - val_loss: 17.0560 - val_mse: 17.0560 - val_mae: 2.7094\n",
            "Epoch 66/75\n",
            "404/404 [==============================] - 0s 244us/sample - loss: 5.6910 - mse: 5.6910 - mae: 1.7125 - val_loss: 16.3316 - val_mse: 16.3316 - val_mae: 2.6138\n",
            "Epoch 67/75\n",
            "404/404 [==============================] - 0s 254us/sample - loss: 5.5738 - mse: 5.5738 - mae: 1.6734 - val_loss: 16.3822 - val_mse: 16.3822 - val_mae: 2.6580\n",
            "Epoch 68/75\n",
            "404/404 [==============================] - 0s 233us/sample - loss: 5.4340 - mse: 5.4340 - mae: 1.6736 - val_loss: 16.0176 - val_mse: 16.0176 - val_mae: 2.6546\n",
            "Epoch 69/75\n",
            "404/404 [==============================] - 0s 221us/sample - loss: 5.4798 - mse: 5.4798 - mae: 1.6859 - val_loss: 15.5934 - val_mse: 15.5934 - val_mae: 2.5845\n",
            "Epoch 70/75\n",
            "404/404 [==============================] - 0s 233us/sample - loss: 5.3827 - mse: 5.3827 - mae: 1.6586 - val_loss: 15.5130 - val_mse: 15.5130 - val_mae: 2.5712\n",
            "Epoch 71/75\n",
            "404/404 [==============================] - 0s 230us/sample - loss: 5.3199 - mse: 5.3199 - mae: 1.6521 - val_loss: 16.3526 - val_mse: 16.3526 - val_mae: 2.6464\n",
            "Epoch 72/75\n",
            "404/404 [==============================] - 0s 224us/sample - loss: 5.3694 - mse: 5.3694 - mae: 1.6441 - val_loss: 16.4822 - val_mse: 16.4822 - val_mae: 2.6158\n",
            "Epoch 73/75\n",
            "404/404 [==============================] - 0s 225us/sample - loss: 5.2343 - mse: 5.2343 - mae: 1.6325 - val_loss: 15.5826 - val_mse: 15.5826 - val_mae: 2.6194\n",
            "Epoch 74/75\n",
            "404/404 [==============================] - 0s 228us/sample - loss: 5.3925 - mse: 5.3925 - mae: 1.6881 - val_loss: 15.9310 - val_mse: 15.9310 - val_mae: 2.6146\n",
            "Epoch 75/75\n",
            "404/404 [==============================] - 0s 227us/sample - loss: 5.1773 - mse: 5.1773 - mae: 1.6397 - val_loss: 15.9391 - val_mse: 15.9391 - val_mae: 2.6970\n"
          ],
          "name": "stdout"
        },
        {
          "output_type": "execute_result",
          "data": {
            "text/plain": [
              "<tensorflow.python.keras.callbacks.History at 0x7fec37718550>"
            ]
          },
          "metadata": {
            "tags": []
          },
          "execution_count": 5
        }
      ]
    },
    {
      "cell_type": "markdown",
      "metadata": {
        "colab_type": "text",
        "id": "sYJ8t_ezHP4W"
      },
      "source": [
        "### Hyperparameter Tuning Approaches:\n",
        "\n",
        "#### 1) Babysitting AKA \"Grad Student Descent\".\n",
        "\n",
        "If you fiddled with any hyperparameters yesterday, this is basically what you did. This approach is 100% manual and is pretty common among researchers where finding that 1 exact specification that jumps your model to a level of accuracy never seen before is the difference between publishing and not publishing a paper. Of course the professors don't do this themselves, that's grunt work. This is also known as the fiddle with hyperparameters until you run out of time method.\n",
        "\n",
        "#### 2) Grid Search\n",
        "\n",
        "Grid Search is the Grad Student galaxy brain realization of: why don't I just specify all the experiments I want to run and let the computer try every possible combination of them while I go and grab lunch. This has a specific downside in that if I specify 5 hyperparameters with 5 options each then I've just created 5^5 combinations of hyperparameters to check. Which means that I have to train 3125 different versions of my model Then if I use 5-fold Cross Validation on that then my model has to run 15,525 times. This is the brute-force method of hyperparameter tuning, but it can be very profitable if done wisely. \n",
        "\n",
        "When using Grid Search here's what I suggest: don't use it to test combinations of different hyperparameters, only use it to test different specifications of **a single** hyperparameter. It's rare that combinations between different hyperparameters lead to big performance gains. You'll get 90-95% of the way there if you just Grid Search one parameter and take the best result, then retain that best result while you test another, and then retain the best specification from that while you train another. This at least makes the situation much more manageable and leads to pretty good results. \n",
        "\n",
        "#### 3) Random Search\n",
        "\n",
        "Do Grid Search for a couple of hours and you'll say to yourself - \"There's got to be a better way.\" Enter Random Search. For Random search you specify a hyperparameter space and it picks specifications from that randomly, tries them out, gives you the best results and says - That's going to have to be good enough, go home and spend time with your family. \n",
        "\n",
        "Grid Search treats every parameter as if it was equally important, but this just isn't the case, some are known to move the needle a lot more than others (we'll talk about that in a minute). Random Search allows searching to be specified along the most important parameter and experiments less along the dimensions of less important hyperparameters. The downside of Random search is that it won't find the absolute best hyperparameters, but it is much less costly to perform than Grid Search. \n",
        "\n",
        "#### 4) Bayesian Methods\n",
        "\n",
        "One thing that can make more manual methods like babysitting and gridsearch effective is that as the experimenter sees results he can then make updates to his future searches taking into account the results of past specifications. If only we could hyperparameter tune our hyperparameter tuning. Well, we kind of can. Enter Bayesian Optimization. Neural Networks are like an optimization problem within an optimization problem, and Bayesian Optimization is a search strategy that tries to take into account the results of past searches in order to improve future ones. This is the most advanced method but can be a little bit tricky to implement, but there are some early steps with `hyperas` which is Bayesian optimization wrapper for `keras`. "
      ]
    },
    {
      "cell_type": "markdown",
      "metadata": {
        "colab_type": "text",
        "id": "HfQ7D043OMMn"
      },
      "source": [
        "## What Hyperparameters are there to test?\n",
        "\n",
        "- batch_size\n",
        "- training epochs\n",
        "- optimization algorithms\n",
        "- learning rate\n",
        "- momentum\n",
        "- activation functions\n",
        "- dropout regularization\n",
        "- number of neurons in the hidden layer\n",
        "\n",
        "There are more, but these are the most important."
      ]
    },
    {
      "cell_type": "markdown",
      "metadata": {
        "id": "lLor0XwuohEw",
        "colab_type": "text"
      },
      "source": [
        "## Follow Along"
      ]
    },
    {
      "cell_type": "markdown",
      "metadata": {
        "colab_type": "text",
        "id": "Mri5-kXzVKAa"
      },
      "source": [
        "## Batch Size\n",
        "\n",
        "Batch size determines how many observations the model is shown before it calculates loss/error and updates the model weights via gradient descent. You're looking for a sweet spot here where you're showing it enough observations that you have enough information to updates the weights, but not such a large batch size that you don't get a lot of weight update iterations performed in a given epoch. Feed-forward Neural Networks aren't as sensitive to bach_size as other networks, but it is still an important hyperparameter to tune. Smaller batch sizes will also take longer to train. "
      ]
    },
    {
      "cell_type": "code",
      "metadata": {
        "id": "H5xIdehL6TOn",
        "colab_type": "code",
        "colab": {}
      },
      "source": [
        "import numpy\n",
        "import pandas as pd\n",
        "from sklearn.model_selection import GridSearchCV\n",
        "from tensorflow.keras.models import Sequential\n",
        "from tensorflow.keras.layers import Dense\n",
        "from tensorflow.keras.wrappers.scikit_learn import KerasClassifier"
      ],
      "execution_count": 0,
      "outputs": []
    },
    {
      "cell_type": "code",
      "metadata": {
        "colab_type": "code",
        "id": "2smXfriNAGn7",
        "outputId": "71dbd936-ab9c-4edd-d9fa-a564c517228b",
        "colab": {
          "base_uri": "https://localhost:8080/",
          "height": 141
        }
      },
      "source": [
        "\n",
        "# fix random seed for reproducibility\n",
        "seed = 7\n",
        "numpy.random.seed(seed)\n",
        "\n",
        "# load dataset\n",
        "url =\"https://raw.githubusercontent.com/jbrownlee/Datasets/master/pima-indians-diabetes.data.csv\"\n",
        "\n",
        "dataset = pd.read_csv(url, header=None).values\n",
        "\n",
        "# split into input (X) and output (Y) variables\n",
        "X = dataset[:,0:8]\n",
        "Y = dataset[:,8]\n",
        "\n",
        "# Function to create model, required for KerasClassifier\n",
        "def create_model():\n",
        "    # create model\n",
        "    model = Sequential()\n",
        "    model.add(Dense(12, input_dim=8, activation='relu'))\n",
        "    model.add(Dense(1, activation='sigmoid'))\n",
        "    # Compile model\n",
        "    model.compile(loss='binary_crossentropy', optimizer='adam', metrics=['accuracy'])\n",
        "    return model\n",
        "\n",
        "# create model\n",
        "model = KerasClassifier(build_fn=create_model, verbose=0)\n",
        "\n",
        "# define the grid search parameters\n",
        "# batch_size = [10, 20, 40, 60, 80, 100]\n",
        "# param_grid = dict(batch_size=batch_size, epochs=epochs)\n",
        "\n",
        "# define the grid search parameters\n",
        "param_grid = {'batch_size': [10, 20, 40, 60, 80, 100],\n",
        "              'epochs': [20]}\n",
        "\n",
        "# Create Grid Search\n",
        "grid = GridSearchCV(estimator=model, param_grid=param_grid, n_jobs=1)\n",
        "grid_result = grid.fit(X, Y)\n",
        "\n",
        "# Report Results\n",
        "print(f\"Best: {grid_result.best_score_} using {grid_result.best_params_}\")\n",
        "means = grid_result.cv_results_['mean_test_score']\n",
        "stds = grid_result.cv_results_['std_test_score']\n",
        "params = grid_result.cv_results_['params']\n",
        "for mean, stdev, param in zip(means, stds, params):\n",
        "    print(f\"Means: {mean}, Stdev: {stdev} with: {param}\") "
      ],
      "execution_count": 7,
      "outputs": [
        {
          "output_type": "stream",
          "text": [
            "Best: 0.6784144043922424 using {'batch_size': 10, 'epochs': 20}\n",
            "Means: 0.6784144043922424, Stdev: 0.028377049886053475 with: {'batch_size': 10, 'epochs': 20}\n",
            "Means: 0.6458874464035034, Stdev: 0.025453604814967966 with: {'batch_size': 20, 'epochs': 20}\n",
            "Means: 0.643154239654541, Stdev: 0.03925667508977459 with: {'batch_size': 40, 'epochs': 20}\n",
            "Means: 0.5480010151863098, Stdev: 0.06912306813160445 with: {'batch_size': 60, 'epochs': 20}\n",
            "Means: 0.5326033592224121, Stdev: 0.038769984766894215 with: {'batch_size': 80, 'epochs': 20}\n",
            "Means: 0.5561752140522003, Stdev: 0.07259567004178392 with: {'batch_size': 100, 'epochs': 20}\n"
          ],
          "name": "stdout"
        }
      ]
    },
    {
      "cell_type": "markdown",
      "metadata": {
        "colab_type": "text",
        "id": "pmABfjlvXbqi"
      },
      "source": [
        "## Epochs\n",
        "\n",
        "The number of training epochs has a large and direct affect on the accuracy, However, more epochs is almost always goign to better than less epochs. This means that if you tune this parameter at the beginning and try and maintain the same value all throughout your training, you're going to be waiting a long time for each iteration of GridSearch. I suggest picking a fixed moderat # of epochs all throughout your training and then Grid Searching this parameter at the very end. "
      ]
    },
    {
      "cell_type": "code",
      "metadata": {
        "colab_type": "code",
        "id": "bAmxP3N7TmFh",
        "outputId": "aedfb24e-fee0-4426-b8f7-064759967c1f",
        "colab": {
          "base_uri": "https://localhost:8080/",
          "height": 105
        }
      },
      "source": [
        "# define the grid search parameters\n",
        "param_grid = {'batch_size': [10],\n",
        "              'epochs': [20, 40, 60,200]}\n",
        "\n",
        "# Create Grid Search\n",
        "grid = GridSearchCV(estimator=model, param_grid=param_grid, n_jobs=1)\n",
        "grid_result = grid.fit(X, Y)\n",
        "\n",
        "# Report Results\n",
        "print(f\"Best: {grid_result.best_score_} using {grid_result.best_params_}\")\n",
        "means = grid_result.cv_results_['mean_test_score']\n",
        "stds = grid_result.cv_results_['std_test_score']\n",
        "params = grid_result.cv_results_['params']\n",
        "for mean, stdev, param in zip(means, stds, params):\n",
        "    print(f\"Means: {mean}, Stdev: {stdev} with: {param}\")"
      ],
      "execution_count": 9,
      "outputs": [
        {
          "output_type": "stream",
          "text": [
            "Best: 0.7409472942352295 using {'batch_size': 10, 'epochs': 200}\n",
            "Means: 0.6169849812984467, Stdev: 0.0866049647038488 with: {'batch_size': 10, 'epochs': 20}\n",
            "Means: 0.6744843482971191, Stdev: 0.008943665331143694 with: {'batch_size': 10, 'epochs': 40}\n",
            "Means: 0.6979373693466187, Stdev: 0.03318696872138918 with: {'batch_size': 10, 'epochs': 60}\n",
            "Means: 0.7409472942352295, Stdev: 0.0317172996770467 with: {'batch_size': 10, 'epochs': 200}\n"
          ],
          "name": "stdout"
        }
      ]
    },
    {
      "cell_type": "markdown",
      "metadata": {
        "colab_type": "text",
        "id": "EKcuY6OiaLfz"
      },
      "source": [
        "## Optimizer\n",
        "\n",
        "Remember that there's a different optimizers [optimizers](https://keras.io/optimizers/). At some point, take some time to read up on them a little bit. \"adam\" usually gives the best results. The thing to know about choosing an optimizer is that different optimizers have different hyperparameters like learning rate, momentum, etc. So based on the optimizer you choose you might also have to tune the learning rate and momentum of those optimizers after that. "
      ]
    },
    {
      "cell_type": "code",
      "metadata": {
        "id": "Eb2nMsD3xLqh",
        "colab_type": "code",
        "colab": {}
      },
      "source": [
        "from tensorflow.keras.callbacks import EarlyStopping"
      ],
      "execution_count": 0,
      "outputs": []
    },
    {
      "cell_type": "code",
      "metadata": {
        "id": "OxINDnXywlmh",
        "colab_type": "code",
        "colab": {
          "base_uri": "https://localhost:8080/",
          "height": 123
        },
        "outputId": "9096ec9d-010f-4fe5-cd48-3a376350629a"
      },
      "source": [
        "# Function to create model, required for KerasClassifier\n",
        "def create_model(optimizer='adam'):\n",
        "    # create model\n",
        "    model = Sequential()\n",
        "    model.add(Dense(12, input_dim=8, activation='relu'))\n",
        "    model.add(Dense(1, activation='sigmoid'))\n",
        "    # Compile model\n",
        "    model.compile(loss='binary_crossentropy', optimizer=optimizer, metrics=['accuracy'])\n",
        "    return model\n",
        "\n",
        "# create stop \n",
        "stop = EarlyStopping(monitor='accuracy', min_delta=.01)\n",
        "\n",
        "# create model\n",
        "model = KerasClassifier(build_fn=create_model, verbose=0)\n",
        "\n",
        "# define the grid search parameters\n",
        "# batch_size = [10, 20, 40, 60, 80, 100]\n",
        "# param_grid = dict(batch_size=batch_size, epochs=epochs)\n",
        "\n",
        "# define the grid search parameters\n",
        "param_grid = {'batch_size': [10],\n",
        "              'optimizer': ['adam', 'nadam', 'sgd', 'adadelta', 'adagrad']}\n",
        "\n",
        "# Create Grid Search\n",
        "grid = GridSearchCV(estimator=model, param_grid=param_grid, n_jobs=1)\n",
        "grid_result = grid.fit(X, Y, epochs=99, callbacks=[stop])\n",
        "\n",
        "# Report Results\n",
        "print(f\"Best: {grid_result.best_score_} using {grid_result.best_params_}\")\n",
        "means = grid_result.cv_results_['mean_test_score']\n",
        "stds = grid_result.cv_results_['std_test_score']\n",
        "params = grid_result.cv_results_['params']\n",
        "for mean, stdev, param in zip(means, stds, params):\n",
        "    print(f\"Means: {mean}, Stdev: {stdev} with: {param}\") "
      ],
      "execution_count": 16,
      "outputs": [
        {
          "output_type": "stream",
          "text": [
            "Best: 0.6589763164520264 using {'batch_size': 10, 'optimizer': 'sgd'}\n",
            "Means: 0.619709700345993, Stdev: 0.07333320585009584 with: {'batch_size': 10, 'optimizer': 'adam'}\n",
            "Means: 0.5820049226284028, Stdev: 0.08804484750953774 with: {'batch_size': 10, 'optimizer': 'nadam'}\n",
            "Means: 0.6589763164520264, Stdev: 0.04587397482308948 with: {'batch_size': 10, 'optimizer': 'sgd'}\n",
            "Means: 0.5639589190483093, Stdev: 0.12694316142349796 with: {'batch_size': 10, 'optimizer': 'adadelta'}\n",
            "Means: 0.5117137849330902, Stdev: 0.1257388367149806 with: {'batch_size': 10, 'optimizer': 'adagrad'}\n"
          ],
          "name": "stdout"
        }
      ]
    },
    {
      "cell_type": "markdown",
      "metadata": {
        "colab_type": "text",
        "id": "DG3wq5iOaLig"
      },
      "source": [
        "## Learning Rate\n",
        "\n",
        "Remember that the Learning Rate is a hyperparameter that is specific to your gradient-descent based optimizer selection. A learning rate that is too high will cause divergent behavior, but a Learning Rate that is too low will fail to converge, again, you're looking for the sweet spot. I would start out tuning learning rates by orders of magnitude: [.001, .01, .1, .2, .3, .5] etc. I wouldn't go above .5, but you can try it and see what the behavior is like. \n",
        "\n",
        "Once you have narrowed it down, make the window even smaller and try it again. If after running the above specification your model reports that .1 is the best optimizer, then you should probably try things like [.05, .08, .1, .12, .15] to try and narrow it down. \n",
        "\n",
        "It can also be good to tune the number of epochs in combination with the learning rate since the number of iterations that you allow the learning rate to reach the minimum can determine if you have let it run long enough to converge to the minimum. "
      ]
    },
    {
      "cell_type": "markdown",
      "metadata": {
        "colab_type": "text",
        "id": "gNTBUWd1aLlA"
      },
      "source": [
        "## Momentum\n",
        "\n",
        "Momentum is a hyperparameter that is more commonly associated with Stochastic Gradient Descent. SGD is a common optimizer because it's what people understand and know, but I doubt it will get you the best results, you can try hyperparameter tuning its attributes and see if you can beat the performance from adam. Momentum is a property that decides the willingness of an optimizer to overshoot the minimum. Imagine a ball rolling down one side of a bowl and then up the opposite side a little bit before settling back to the bottom. The purpose of momentum is to try and escale local minima."
      ]
    },
    {
      "cell_type": "markdown",
      "metadata": {
        "colab_type": "text",
        "id": "xnEG-bCJaLnZ"
      },
      "source": [
        "## Activation Functions\n",
        "\n",
        "We've talked about this a little bit, typically you'l want to use ReLU for hidden layers and either Sigmoid, or Softmax for output layers of binary and multi-class classification implementations respectively, but try other activation functions and see if you can get any better results with sigmoid or tanh or something. There are a lot of activation functions that we haven't really talked about. Maybe you'll get good results with them. Maybe you won't. :) <https://keras.io/activations/>"
      ]
    },
    {
      "cell_type": "markdown",
      "metadata": {
        "colab_type": "text",
        "id": "oul9sPq-dU-h"
      },
      "source": [
        "## Network Weight Initialization\n",
        "\n",
        "You saw how big of an effect the way that we initialize our network's weights can have on our results. There are **a lot** of what are called initialization modes. I don't understand all of them, but they can have a big affect on your model's initial accuracy. Your model will get further with less epochs if you initialize it with weights that are well suited to the problem you're trying to solve.\n",
        "\n",
        "`init_mode = ['uniform', 'lecun_uniform', 'normal', 'zero', 'glorot_normal', 'glorot_uniform', 'he_normal', 'he_uniform']`"
      ]
    },
    {
      "cell_type": "markdown",
      "metadata": {
        "colab_type": "text",
        "id": "bqtEuxeQaLqE"
      },
      "source": [
        "## Dropout Regularization and the Weight Constraint\n",
        "\n",
        "the Dropout Regularization value is a percentage of neurons that you want to be randomly deactivated during training. The weight constraint is a second regularization parameter that works in tandem with dropout regularization. You should tune these two values at the same time. \n",
        "\n",
        "Using dropout on visible vs hidden layers might have a different effect. Using dropout on hidden layers might not have any effect while using dropout on hidden layers might have a substantial effect. You don't necessarily need to turn use dropout unless you see that your model has overfitting and generalizability problems."
      ]
    },
    {
      "cell_type": "markdown",
      "metadata": {
        "colab_type": "text",
        "id": "P2c5Cv6oaLtO"
      },
      "source": [
        "## Neurons in Hidden Layer \n",
        "\n",
        "Remember that when we only had a single perceptron our model was only able to fit to linearly separable data, but as we have added layers and nodes to those layers our network has become a powerhouse of fitting nonlinearity in data. The larger the network and the more nodes generally the stronger the network's capacity to fit nonlinear patterns in data. The more nodes and layers the longer it will take to train a network, and higher the probability of overfitting. The larger your network gets the more you'll need dropout regularization or other regularization techniques to keep it in check. \n",
        "\n",
        "Typically depth (more layers) is more important than width (more nodes) for neural networks. This is part of why Deep Learning is so highly touted. Certain deep learning architectures have truly been huge breakthroughs for certain machine learning tasks. \n",
        "\n",
        "You might borrow ideas from other network architectures. For example if I was doing image recognition and I wasn't taking cues from state of the art architectures like resnet, alexnet, googlenet, etc. Then I'm probably going to have to do a lot more experimentation on my own before I find something that works.\n",
        "\n",
        "There are some heuristics, but I am highly skeptical of them. I think you're better off experimenting on your own and forming your own intuition for these kinds of problems. \n",
        "\n",
        "- https://machinelearningmastery.com/how-to-configure-the-number-of-layers-and-nodes-in-a-neural-network/"
      ]
    },
    {
      "cell_type": "markdown",
      "metadata": {
        "id": "-Mls_7waohFD",
        "colab_type": "text"
      },
      "source": [
        "## Challenge\n",
        "You will be expected to tune several hyperparameters in today's module project. "
      ]
    },
    {
      "cell_type": "markdown",
      "metadata": {
        "id": "WBl7FG0sohFE",
        "colab_type": "text"
      },
      "source": [
        "# Experiment Tracking Framework (Learn)\n",
        "<a id=\"p2\"></a>"
      ]
    },
    {
      "cell_type": "markdown",
      "metadata": {
        "id": "DyE_waU9ohFF",
        "colab_type": "text"
      },
      "source": [
        "## Overview\n",
        "\n",
        "You will notice quickly that managing the results of all the experiments you are running becomes challenging. Which set of parameters did the best? Are my results today different than my results yesterday? Although we use Ipython Notebooks to work, the format is not well suited to logging experimental results. Enter experiment tracking frameworks like [Comet.ml](https://comet.ml) and [Weights and Biases](https://wandb.ai/).\n",
        "\n",
        "Those tools will help you track your experiments, store the results, and the code associated with those experiments. Experimental results can also be readily visualized to see changes in performance across any metric you care about. Data is sent to the tool as each epoch is completed, so you can also see if your model is converging. Let's check out Weights & Biases today. "
      ]
    },
    {
      "cell_type": "markdown",
      "metadata": {
        "id": "GlCJExT-ohFG",
        "colab_type": "text"
      },
      "source": [
        "## Follow Along\n",
        "\n",
        "Make sure you login into `wandb` in the terminal before running the next cell. "
      ]
    },
    {
      "cell_type": "code",
      "metadata": {
        "id": "9VMcBd2S3K6r",
        "colab_type": "code",
        "colab": {
          "base_uri": "https://localhost:8080/",
          "height": 461
        },
        "outputId": "93c6e492-7583-47bd-ade6-3d886c042dc5"
      },
      "source": [
        "!pip install wandb"
      ],
      "execution_count": 5,
      "outputs": [
        {
          "output_type": "stream",
          "text": [
            "Requirement already satisfied: wandb in /usr/local/lib/python3.6/dist-packages (0.8.29)\n",
            "Requirement already satisfied: nvidia-ml-py3>=7.352.0 in /usr/local/lib/python3.6/dist-packages (from wandb) (7.352.0)\n",
            "Requirement already satisfied: python-dateutil>=2.6.1 in /usr/local/lib/python3.6/dist-packages (from wandb) (2.8.1)\n",
            "Requirement already satisfied: docker-pycreds>=0.4.0 in /usr/local/lib/python3.6/dist-packages (from wandb) (0.4.0)\n",
            "Requirement already satisfied: subprocess32>=3.5.3 in /usr/local/lib/python3.6/dist-packages (from wandb) (3.5.4)\n",
            "Requirement already satisfied: GitPython>=1.0.0 in /usr/local/lib/python3.6/dist-packages (from wandb) (3.1.0)\n",
            "Requirement already satisfied: configparser>=3.8.1 in /usr/local/lib/python3.6/dist-packages (from wandb) (4.0.2)\n",
            "Requirement already satisfied: psutil>=5.0.0 in /usr/local/lib/python3.6/dist-packages (from wandb) (5.4.8)\n",
            "Requirement already satisfied: sentry-sdk>=0.4.0 in /usr/local/lib/python3.6/dist-packages (from wandb) (0.14.2)\n",
            "Requirement already satisfied: requests>=2.0.0 in /usr/local/lib/python3.6/dist-packages (from wandb) (2.21.0)\n",
            "Requirement already satisfied: gql==0.2.0 in /usr/local/lib/python3.6/dist-packages (from wandb) (0.2.0)\n",
            "Requirement already satisfied: six>=1.10.0 in /usr/local/lib/python3.6/dist-packages (from wandb) (1.12.0)\n",
            "Requirement already satisfied: watchdog>=0.8.3 in /usr/local/lib/python3.6/dist-packages (from wandb) (0.10.2)\n",
            "Requirement already satisfied: shortuuid>=0.5.0 in /usr/local/lib/python3.6/dist-packages (from wandb) (1.0.1)\n",
            "Requirement already satisfied: Click>=7.0 in /usr/local/lib/python3.6/dist-packages (from wandb) (7.1.1)\n",
            "Requirement already satisfied: PyYAML>=3.10 in /usr/local/lib/python3.6/dist-packages (from wandb) (3.13)\n",
            "Requirement already satisfied: gitdb<5,>=4.0.1 in /usr/local/lib/python3.6/dist-packages (from GitPython>=1.0.0->wandb) (4.0.2)\n",
            "Requirement already satisfied: urllib3>=1.10.0 in /usr/local/lib/python3.6/dist-packages (from sentry-sdk>=0.4.0->wandb) (1.24.3)\n",
            "Requirement already satisfied: certifi in /usr/local/lib/python3.6/dist-packages (from sentry-sdk>=0.4.0->wandb) (2019.11.28)\n",
            "Requirement already satisfied: chardet<3.1.0,>=3.0.2 in /usr/local/lib/python3.6/dist-packages (from requests>=2.0.0->wandb) (3.0.4)\n",
            "Requirement already satisfied: idna<2.9,>=2.5 in /usr/local/lib/python3.6/dist-packages (from requests>=2.0.0->wandb) (2.8)\n",
            "Requirement already satisfied: graphql-core<2,>=0.5.0 in /usr/local/lib/python3.6/dist-packages (from gql==0.2.0->wandb) (1.1)\n",
            "Requirement already satisfied: promise<3,>=2.0 in /usr/local/lib/python3.6/dist-packages (from gql==0.2.0->wandb) (2.3)\n",
            "Requirement already satisfied: pathtools>=0.1.1 in /usr/local/lib/python3.6/dist-packages (from watchdog>=0.8.3->wandb) (0.1.2)\n",
            "Requirement already satisfied: smmap<4,>=3.0.1 in /usr/local/lib/python3.6/dist-packages (from gitdb<5,>=4.0.1->GitPython>=1.0.0->wandb) (3.0.1)\n"
          ],
          "name": "stdout"
        }
      ]
    },
    {
      "cell_type": "code",
      "metadata": {
        "id": "q1Oubvw2ohFH",
        "colab_type": "code",
        "colab": {}
      },
      "source": [
        "import wandb\n",
        "from wandb.keras import WandbCallback"
      ],
      "execution_count": 0,
      "outputs": []
    },
    {
      "cell_type": "code",
      "metadata": {
        "id": "DyA61BTr4dUE",
        "colab_type": "code",
        "colab": {
          "base_uri": "https://localhost:8080/",
          "height": 52
        },
        "outputId": "a880fbf4-5770-42ca-c8f1-9d93bba486fb"
      },
      "source": [
        "!wandb login 38a8ec3c99332a53b66acf5c89e58b280f097b9b"
      ],
      "execution_count": 7,
      "outputs": [
        {
          "output_type": "stream",
          "text": [
            "\u001b[34m\u001b[1mwandb\u001b[0m: Appending key for api.wandb.ai to your netrc file: /root/.netrc\n",
            "\u001b[32mSuccessfully logged in to Weights & Biases!\u001b[0m\n"
          ],
          "name": "stdout"
        }
      ]
    },
    {
      "cell_type": "code",
      "metadata": {
        "colab_type": "code",
        "outputId": "1ddf10ad-d963-4322-b355-6bf0cfea8f7b",
        "id": "DlNHns7DohFO",
        "colab": {
          "base_uri": "https://localhost:8080/",
          "height": 1000
        }
      },
      "source": [
        "#Initializes and Experiment\n",
        "wandb_project = 'ds11_inclass'\n",
        "wandb_group = \"ds8\"\n",
        "wandb.init(project=wandb_project, entity=wandb_group)\n",
        "\n",
        "# Important Hyperparameters\n",
        "X =  x_train\n",
        "y =  y_train\n",
        "\n",
        "inputs = X.shape[1]\n",
        "wandb.config.epochs = 50\n",
        "wandb.config.batch_size = 10\n",
        "\n",
        "# Create Model\n",
        "model = Sequential()\n",
        "model.add(Dense(128, activation='relu', input_shape=(inputs,)))\n",
        "model.add(Dense(128, activation='relu'))\n",
        "model.add(Dense(128, activation='relu'))\n",
        "model.add(Dense(64, activation='relu'))\n",
        "model.add(Dense(32, activation='relu'))\n",
        "model.add(Dense(1))\n",
        "# Compile Model\n",
        "model.compile(optimizer='nadam', loss='mse', metrics=['mse', 'mae'])\n",
        "\n",
        "# Fit Model\n",
        "model.fit(X, y, \n",
        "          validation_split=0.33, \n",
        "          epochs=wandb.config.epochs, \n",
        "          batch_size=wandb.config.batch_size, \n",
        "          callbacks=[WandbCallback()]\n",
        "         )"
      ],
      "execution_count": 23,
      "outputs": [
        {
          "output_type": "display_data",
          "data": {
            "text/html": [
              "\n",
              "                Logging results to <a href=\"https://wandb.com\" target=\"_blank\">Weights & Biases</a> <a href=\"https://docs.wandb.com/integrations/jupyter.html\" target=\"_blank\">(Documentation)</a>.<br/>\n",
              "                Project page: <a href=\"https://app.wandb.ai/ds8/ds11_inclass\" target=\"_blank\">https://app.wandb.ai/ds8/ds11_inclass</a><br/>\n",
              "                Run page: <a href=\"https://app.wandb.ai/ds8/ds11_inclass/runs/uaixvree\" target=\"_blank\">https://app.wandb.ai/ds8/ds11_inclass/runs/uaixvree</a><br/>\n",
              "            "
            ],
            "text/plain": [
              "<IPython.core.display.HTML object>"
            ]
          },
          "metadata": {
            "tags": []
          }
        },
        {
          "output_type": "stream",
          "text": [
            "Train on 270 samples, validate on 134 samples\n",
            "Epoch 1/50\n",
            "270/270 [==============================] - 1s 4ms/sample - loss: 382.0694 - mse: 382.0695 - mae: 16.8392 - val_loss: 114.1960 - val_mse: 114.1960 - val_mae: 7.8361\n",
            "Epoch 2/50\n",
            "270/270 [==============================] - 0s 498us/sample - loss: 46.2808 - mse: 46.2808 - mae: 4.9212 - val_loss: 39.6228 - val_mse: 39.6228 - val_mae: 4.1619\n",
            "Epoch 3/50\n",
            "270/270 [==============================] - 0s 517us/sample - loss: 20.5341 - mse: 20.5341 - mae: 3.2455 - val_loss: 30.4171 - val_mse: 30.4171 - val_mae: 3.4304\n",
            "Epoch 4/50\n",
            "270/270 [==============================] - 0s 472us/sample - loss: 14.7848 - mse: 14.7848 - mae: 2.7898 - val_loss: 26.0270 - val_mse: 26.0270 - val_mae: 3.1779\n",
            "Epoch 5/50\n",
            "270/270 [==============================] - 0s 439us/sample - loss: 12.9400 - mse: 12.9401 - mae: 2.6319 - val_loss: 20.7448 - val_mse: 20.7448 - val_mae: 2.8498\n",
            "Epoch 6/50\n",
            "270/270 [==============================] - 0s 452us/sample - loss: 11.2726 - mse: 11.2726 - mae: 2.5147 - val_loss: 18.8320 - val_mse: 18.8320 - val_mae: 2.8308\n",
            "Epoch 7/50\n",
            "270/270 [==============================] - 0s 336us/sample - loss: 10.1031 - mse: 10.1031 - mae: 2.3501 - val_loss: 18.9338 - val_mse: 18.9338 - val_mae: 2.8588\n",
            "Epoch 8/50\n",
            "270/270 [==============================] - 0s 503us/sample - loss: 9.3754 - mse: 9.3754 - mae: 2.3549 - val_loss: 17.6292 - val_mse: 17.6292 - val_mae: 2.7780\n",
            "Epoch 9/50\n",
            "270/270 [==============================] - 0s 407us/sample - loss: 9.2578 - mse: 9.2578 - mae: 2.3332 - val_loss: 18.0836 - val_mse: 18.0836 - val_mae: 2.7968\n",
            "Epoch 10/50\n",
            "270/270 [==============================] - 0s 323us/sample - loss: 7.8655 - mse: 7.8655 - mae: 2.1468 - val_loss: 17.7601 - val_mse: 17.7601 - val_mae: 2.8182\n",
            "Epoch 11/50\n",
            "270/270 [==============================] - 0s 422us/sample - loss: 8.3728 - mse: 8.3728 - mae: 2.1434 - val_loss: 16.9453 - val_mse: 16.9453 - val_mae: 2.7816\n",
            "Epoch 12/50\n",
            "270/270 [==============================] - 0s 491us/sample - loss: 7.3329 - mse: 7.3329 - mae: 2.1042 - val_loss: 16.8065 - val_mse: 16.8065 - val_mae: 2.6846\n",
            "Epoch 13/50\n",
            "270/270 [==============================] - 0s 482us/sample - loss: 7.9234 - mse: 7.9234 - mae: 2.1296 - val_loss: 15.8961 - val_mse: 15.8961 - val_mae: 2.6344\n",
            "Epoch 14/50\n",
            "270/270 [==============================] - 0s 361us/sample - loss: 6.9506 - mse: 6.9506 - mae: 2.0015 - val_loss: 17.4149 - val_mse: 17.4149 - val_mae: 2.8356\n",
            "Epoch 15/50\n",
            "270/270 [==============================] - 0s 440us/sample - loss: 7.0240 - mse: 7.0240 - mae: 1.9953 - val_loss: 16.8361 - val_mse: 16.8361 - val_mae: 2.8323\n",
            "Epoch 16/50\n",
            "270/270 [==============================] - 0s 312us/sample - loss: 6.5204 - mse: 6.5204 - mae: 1.9050 - val_loss: 16.4849 - val_mse: 16.4849 - val_mae: 2.6848\n",
            "Epoch 17/50\n",
            "270/270 [==============================] - 0s 317us/sample - loss: 6.2400 - mse: 6.2400 - mae: 1.8761 - val_loss: 16.3501 - val_mse: 16.3501 - val_mae: 2.6732\n",
            "Epoch 18/50\n",
            "270/270 [==============================] - 0s 504us/sample - loss: 6.2616 - mse: 6.2616 - mae: 1.8716 - val_loss: 15.3767 - val_mse: 15.3767 - val_mae: 2.5503\n",
            "Epoch 19/50\n",
            "270/270 [==============================] - 0s 454us/sample - loss: 5.7766 - mse: 5.7766 - mae: 1.7642 - val_loss: 15.1221 - val_mse: 15.1221 - val_mae: 2.5610\n",
            "Epoch 20/50\n",
            "270/270 [==============================] - 0s 496us/sample - loss: 5.7706 - mse: 5.7706 - mae: 1.8366 - val_loss: 14.1916 - val_mse: 14.1916 - val_mae: 2.4559\n",
            "Epoch 21/50\n",
            "270/270 [==============================] - 0s 327us/sample - loss: 5.2431 - mse: 5.2431 - mae: 1.7288 - val_loss: 14.9480 - val_mse: 14.9480 - val_mae: 2.5311\n",
            "Epoch 22/50\n",
            "270/270 [==============================] - 0s 349us/sample - loss: 5.1760 - mse: 5.1760 - mae: 1.7177 - val_loss: 15.6261 - val_mse: 15.6261 - val_mae: 2.6865\n",
            "Epoch 23/50\n",
            "270/270 [==============================] - 0s 311us/sample - loss: 5.4203 - mse: 5.4203 - mae: 1.7089 - val_loss: 15.2309 - val_mse: 15.2309 - val_mae: 2.6019\n",
            "Epoch 24/50\n",
            "270/270 [==============================] - 0s 343us/sample - loss: 5.5063 - mse: 5.5063 - mae: 1.6985 - val_loss: 15.2481 - val_mse: 15.2481 - val_mae: 2.6972\n",
            "Epoch 25/50\n",
            "270/270 [==============================] - 0s 488us/sample - loss: 4.6310 - mse: 4.6310 - mae: 1.6172 - val_loss: 13.8891 - val_mse: 13.8891 - val_mae: 2.4252\n",
            "Epoch 26/50\n",
            "270/270 [==============================] - 0s 346us/sample - loss: 4.4864 - mse: 4.4864 - mae: 1.5938 - val_loss: 14.9060 - val_mse: 14.9060 - val_mae: 2.6040\n",
            "Epoch 27/50\n",
            "270/270 [==============================] - 0s 377us/sample - loss: 4.6645 - mse: 4.6645 - mae: 1.6324 - val_loss: 15.2549 - val_mse: 15.2549 - val_mae: 2.5918\n",
            "Epoch 28/50\n",
            "270/270 [==============================] - 0s 322us/sample - loss: 4.5714 - mse: 4.5714 - mae: 1.6236 - val_loss: 14.7151 - val_mse: 14.7151 - val_mae: 2.4615\n",
            "Epoch 29/50\n",
            "270/270 [==============================] - 0s 362us/sample - loss: 4.2663 - mse: 4.2663 - mae: 1.5045 - val_loss: 14.4524 - val_mse: 14.4524 - val_mae: 2.4607\n",
            "Epoch 30/50\n",
            "270/270 [==============================] - 0s 348us/sample - loss: 4.0502 - mse: 4.0502 - mae: 1.4859 - val_loss: 15.4831 - val_mse: 15.4831 - val_mae: 2.6932\n",
            "Epoch 31/50\n",
            "270/270 [==============================] - 0s 370us/sample - loss: 5.0298 - mse: 5.0298 - mae: 1.6670 - val_loss: 14.9866 - val_mse: 14.9866 - val_mae: 2.4974\n",
            "Epoch 32/50\n",
            "270/270 [==============================] - 0s 388us/sample - loss: 4.0903 - mse: 4.0903 - mae: 1.5071 - val_loss: 14.8699 - val_mse: 14.8699 - val_mae: 2.5878\n",
            "Epoch 33/50\n",
            "270/270 [==============================] - 0s 359us/sample - loss: 4.2015 - mse: 4.2015 - mae: 1.5612 - val_loss: 14.6621 - val_mse: 14.6621 - val_mae: 2.6234\n",
            "Epoch 34/50\n",
            "270/270 [==============================] - 0s 500us/sample - loss: 3.8282 - mse: 3.8282 - mae: 1.4684 - val_loss: 13.7228 - val_mse: 13.7228 - val_mae: 2.3675\n",
            "Epoch 35/50\n",
            "270/270 [==============================] - 0s 317us/sample - loss: 4.1558 - mse: 4.1558 - mae: 1.5803 - val_loss: 14.1618 - val_mse: 14.1618 - val_mae: 2.4476\n",
            "Epoch 36/50\n",
            "270/270 [==============================] - 0s 350us/sample - loss: 3.2376 - mse: 3.2376 - mae: 1.3972 - val_loss: 14.9675 - val_mse: 14.9675 - val_mae: 2.5471\n",
            "Epoch 37/50\n",
            "270/270 [==============================] - 0s 372us/sample - loss: 3.4192 - mse: 3.4192 - mae: 1.3990 - val_loss: 14.5080 - val_mse: 14.5080 - val_mae: 2.5379\n",
            "Epoch 38/50\n",
            "270/270 [==============================] - 0s 332us/sample - loss: 3.3795 - mse: 3.3795 - mae: 1.4131 - val_loss: 14.1306 - val_mse: 14.1306 - val_mae: 2.4741\n",
            "Epoch 39/50\n",
            "270/270 [==============================] - 0s 320us/sample - loss: 3.2587 - mse: 3.2587 - mae: 1.3623 - val_loss: 14.3119 - val_mse: 14.3119 - val_mae: 2.4678\n",
            "Epoch 40/50\n",
            "270/270 [==============================] - 0s 362us/sample - loss: 3.0794 - mse: 3.0794 - mae: 1.3291 - val_loss: 14.5505 - val_mse: 14.5505 - val_mae: 2.4552\n",
            "Epoch 41/50\n",
            "270/270 [==============================] - 0s 360us/sample - loss: 3.0170 - mse: 3.0170 - mae: 1.3398 - val_loss: 18.6423 - val_mse: 18.6423 - val_mae: 3.1704\n",
            "Epoch 42/50\n",
            "270/270 [==============================] - 0s 342us/sample - loss: 3.3467 - mse: 3.3467 - mae: 1.3644 - val_loss: 15.0229 - val_mse: 15.0229 - val_mae: 2.5772\n",
            "Epoch 43/50\n",
            "270/270 [==============================] - 0s 356us/sample - loss: 2.9393 - mse: 2.9393 - mae: 1.3191 - val_loss: 14.5267 - val_mse: 14.5267 - val_mae: 2.4739\n",
            "Epoch 44/50\n",
            "270/270 [==============================] - 0s 326us/sample - loss: 2.8769 - mse: 2.8769 - mae: 1.2752 - val_loss: 14.3958 - val_mse: 14.3958 - val_mae: 2.5026\n",
            "Epoch 45/50\n",
            "270/270 [==============================] - 0s 380us/sample - loss: 2.7411 - mse: 2.7411 - mae: 1.2798 - val_loss: 14.2109 - val_mse: 14.2108 - val_mae: 2.4974\n",
            "Epoch 46/50\n",
            "270/270 [==============================] - 0s 326us/sample - loss: 2.7356 - mse: 2.7356 - mae: 1.2321 - val_loss: 14.5117 - val_mse: 14.5117 - val_mae: 2.4336\n",
            "Epoch 47/50\n",
            "270/270 [==============================] - 0s 373us/sample - loss: 2.8370 - mse: 2.8370 - mae: 1.2313 - val_loss: 14.3539 - val_mse: 14.3539 - val_mae: 2.4478\n",
            "Epoch 48/50\n",
            "270/270 [==============================] - 0s 393us/sample - loss: 2.4823 - mse: 2.4823 - mae: 1.1672 - val_loss: 14.0192 - val_mse: 14.0192 - val_mae: 2.6049\n",
            "Epoch 49/50\n",
            "270/270 [==============================] - 0s 332us/sample - loss: 2.7353 - mse: 2.7353 - mae: 1.2615 - val_loss: 14.1606 - val_mse: 14.1606 - val_mae: 2.4892\n",
            "Epoch 50/50\n",
            "270/270 [==============================] - 0s 321us/sample - loss: 2.7724 - mse: 2.7724 - mae: 1.2425 - val_loss: 14.5232 - val_mse: 14.5232 - val_mae: 2.6249\n"
          ],
          "name": "stdout"
        },
        {
          "output_type": "execute_result",
          "data": {
            "text/plain": [
              "<tensorflow.python.keras.callbacks.History at 0x7ff0434cf400>"
            ]
          },
          "metadata": {
            "tags": []
          },
          "execution_count": 23
        }
      ]
    },
    {
      "cell_type": "markdown",
      "metadata": {
        "id": "k6-YAA6_ohFV",
        "colab_type": "text"
      },
      "source": [
        "## Challenge\n",
        "\n",
        "You will be expected to use Weights & Biases to try to tune your model during your module assignment today. "
      ]
    },
    {
      "cell_type": "markdown",
      "metadata": {
        "id": "4AvdCHWSohFW",
        "colab_type": "text"
      },
      "source": [
        "# Hyperparameters with RandomSearchCV (Learn)"
      ]
    },
    {
      "cell_type": "markdown",
      "metadata": {
        "id": "pQYUKp9VohFX",
        "colab_type": "text"
      },
      "source": [
        "## Overview\n",
        "\n",
        "Basically `GridSearchCV` takes forever. You'll want to adopt a slightly more sophiscated strategy."
      ]
    },
    {
      "cell_type": "markdown",
      "metadata": {
        "id": "9F13ALXoohFY",
        "colab_type": "text"
      },
      "source": [
        "## Follow Along"
      ]
    },
    {
      "cell_type": "code",
      "metadata": {
        "id": "KXcgFVn9ohFZ",
        "colab_type": "code",
        "colab": {}
      },
      "source": [
        "sweep_config = {\n",
        "    'method': 'random',\n",
        "    'parameters': {\n",
        "        'learning_rate': {'distribution': 'normal'},\n",
        "        'epochs': {'distribution': 'uniform',\n",
        "                    'min': 100,\n",
        "                    'max': 1000},\n",
        "        'batch_size': {'distribution': 'uniform',\n",
        "            'min': 10,\n",
        "            'max': 400}\n",
        "    }\n",
        "}"
      ],
      "execution_count": 0,
      "outputs": []
    },
    {
      "cell_type": "code",
      "metadata": {
        "id": "-GLjA7imohFc",
        "colab_type": "code",
        "colab": {},
        "outputId": "80a2f77d-c61c-4e97-f597-9b325ee8dd07"
      },
      "source": [
        "sweep_id = wandb.sweep(sweep_config)"
      ],
      "execution_count": 0,
      "outputs": [
        {
          "output_type": "stream",
          "text": [
            "Create sweep with ID: huau0u9r\n",
            "Sweep URL: https://app.wandb.ai/lambda-ds7/boston/sweeps/huau0u9r\n"
          ],
          "name": "stdout"
        }
      ]
    },
    {
      "cell_type": "code",
      "metadata": {
        "id": "tGnqkQWAohFh",
        "colab_type": "code",
        "colab": {}
      },
      "source": [
        "import wandb\n",
        "from wandb.keras import WandbCallback\n",
        "#Initializes and Experiment\n",
        "\n",
        "from tensorflow.keras.optimizers import Adam\n",
        "\n",
        "# Important Hyperparameters\n",
        "X =  x_train\n",
        "y =  y_train\n",
        "\n",
        "inputs = X.shape[1]\n",
        "\n",
        "def train():\n",
        "    \n",
        "    wandb.init(project=\"boston\", entity=\"lambda-ds7\") \n",
        "    \n",
        "    config = wandb.config\n",
        "\n",
        "    # Create Model\n",
        "    model = Sequential()\n",
        "    model.add(Dense(64, activation='relu', input_shape=(inputs,)))\n",
        "    model.add(Dense(64, activation='relu'))\n",
        "    model.add(Dense(64, activation='relu'))\n",
        "    model.add(Dense(1))\n",
        "\n",
        "    # Optimizer \n",
        "    adam = Adam(learning_rate=config.learning_rate)\n",
        "\n",
        "    # Compile Model\n",
        "    model.compile(optimizer=adam, loss='mse', metrics=['mse', 'mae'])\n",
        "\n",
        "    # Fit Model\n",
        "    model.fit(X, y, \n",
        "              validation_split=0.33, \n",
        "              epochs=config.epochs, \n",
        "              batch_size=config.batch_size, \n",
        "              callbacks=[WandbCallback()]\n",
        "             )"
      ],
      "execution_count": 0,
      "outputs": []
    },
    {
      "cell_type": "code",
      "metadata": {
        "id": "to64F7W8ohFm",
        "colab_type": "code",
        "colab": {},
        "outputId": "7644942b-08f2-4a75-8c4e-1a658dba0e6a"
      },
      "source": [
        "wandb.agent(sweep_id, function=train)"
      ],
      "execution_count": 0,
      "outputs": [
        {
          "output_type": "stream",
          "text": [
            "wandb: Agent Starting Run: 2g77kp6k with config:\n",
            "\tbatch_size: 308.503347845309\n",
            "\tepochs: 704.9395850579006\n",
            "\tlearning_rate: 1.480005523005428\n",
            "wandb: Agent Started Run: 2g77kp6k\n"
          ],
          "name": "stdout"
        },
        {
          "output_type": "display_data",
          "data": {
            "text/html": [
              "\n",
              "                Logging results to <a href=\"https://wandb.com\" target=\"_blank\">Weights & Biases</a> <a href=\"https://docs.wandb.com/integrations/jupyter.html\" target=\"_blank\">(Documentation)</a>.<br/>\n",
              "                Project page: <a href=\"https://app.wandb.ai/lambda-ds7/boston\" target=\"_blank\">https://app.wandb.ai/lambda-ds7/boston</a><br/>\n",
              "                Run page: <a href=\"https://app.wandb.ai/lambda-ds7/boston/runs/t4w9l4ye\" target=\"_blank\">https://app.wandb.ai/lambda-ds7/boston/runs/t4w9l4ye</a><br/>\n",
              "            "
            ],
            "text/plain": [
              "<IPython.core.display.HTML object>"
            ]
          },
          "metadata": {
            "tags": []
          }
        }
      ]
    },
    {
      "cell_type": "markdown",
      "metadata": {
        "id": "j2vZ74TzohFq",
        "colab_type": "text"
      },
      "source": [
        "## Challenge\n",
        "\n",
        "Try to apply RandomSearchCV to your module project today. "
      ]
    },
    {
      "cell_type": "markdown",
      "metadata": {
        "id": "_5wLH3OuohFr",
        "colab_type": "text"
      },
      "source": [
        "# Review\n",
        "* <a href=\"#p1\">Part 1</a>: Describe the major hyperparemeters to tune\n",
        "    - Activation Functions\n",
        "    - Optimizer\n",
        "    - Number of Layers\n",
        "    - Number of Neurons\n",
        "    - Batch Size\n",
        "    - Dropout Regulaization\n",
        "    - Learning Rate\n",
        "    - Number of Epochs\n",
        "    - and many more\n",
        "* <a href=\"#p2\">Part 2</a>: Implement an experiment tracking framework\n",
        "    - Weights & Biases\n",
        "    - Comet.ml\n",
        "    - By Hand / GridSearch\n",
        "* <a href=\"#p3\">Part 3</a>: Search the hyperparameter space using RandomSearch\n",
        "    - Sklearn still useful (haha)\n",
        "    - Integration with Wieghts & Biases\n",
        "* <a href=\"#p4\">Part 4</a>: Discuss emerging hyperparameter tuning strategies\n",
        "    - Bayesian Optimization\n",
        "    - Hyperopt\n",
        "    - Genetic Evolution"
      ]
    },
    {
      "cell_type": "markdown",
      "metadata": {
        "id": "fUYCpD85ohFs",
        "colab_type": "text"
      },
      "source": [
        "# Sources"
      ]
    },
    {
      "cell_type": "markdown",
      "metadata": {
        "id": "Ts7aFgj3ohFt",
        "colab_type": "text"
      },
      "source": [
        "## Additional Reading\n",
        "- https://machinelearningmastery.com/grid-search-hyperparameters-deep-learning-models-python-keras/\n",
        "- https://blog.floydhub.com/guide-to-hyperparameters-search-for-deep-learning-models/\n",
        "- https://machinelearningmastery.com/dropout-regularization-deep-learning-models-keras/\n",
        "- https://machinelearningmastery.com/introduction-to-weight-constraints-to-reduce-generalization-error-in-deep-learning/\n",
        "- https://machinelearningmastery.com/how-to-configure-the-number-of-layers-and-nodes-in-a-neural-network/"
      ]
    }
  ]
}